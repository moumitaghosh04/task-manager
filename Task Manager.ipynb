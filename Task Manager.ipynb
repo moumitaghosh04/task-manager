{
 "cells": [
  {
   "cell_type": "markdown",
   "id": "7885cc94-baf6-4952-822e-cfe6642541ae",
   "metadata": {},
   "source": [
    "Task Manager with User Authentication\n"
   ]
  },
  {
   "cell_type": "code",
   "execution_count": null,
   "id": "c33dfcaa-b234-40ca-875a-dc325374ff97",
   "metadata": {},
   "outputs": [
    {
     "name": "stdout",
     "output_type": "stream",
     "text": [
      "\n",
      "Task Manager\n",
      "1. Register\n",
      "2. Login\n",
      "3. Exit\n"
     ]
    },
    {
     "name": "stdin",
     "output_type": "stream",
     "text": [
      "Enter your choice:  1\n",
      "Enter username:  moumita\n",
      "Enter password:  password\n"
     ]
    },
    {
     "name": "stdout",
     "output_type": "stream",
     "text": [
      "Password must contain at least one number.\n",
      "\n",
      "Task Manager\n",
      "1. Register\n",
      "2. Login\n",
      "3. Exit\n"
     ]
    },
    {
     "name": "stdin",
     "output_type": "stream",
     "text": [
      "Enter your choice:  1\n",
      "Enter username:  moumita\n",
      "Enter password:  P@ssw0rd\n"
     ]
    },
    {
     "name": "stdout",
     "output_type": "stream",
     "text": [
      "Registration successful!\n",
      "\n",
      "Task Manager\n",
      "1. Register\n",
      "2. Login\n",
      "3. Exit\n"
     ]
    },
    {
     "name": "stdin",
     "output_type": "stream",
     "text": [
      "Enter your choice:  2\n",
      "Enter username:  moumita\n",
      "Enter password:  P@ssw0rd\n"
     ]
    },
    {
     "name": "stdout",
     "output_type": "stream",
     "text": [
      "Login successful!\n",
      "\n",
      "Task Menu\n",
      "1. Add Task\n",
      "2. View Tasks\n",
      "3. Mark Task as Completed\n",
      "4. Delete Task\n",
      "5. Logout\n"
     ]
    },
    {
     "name": "stdin",
     "output_type": "stream",
     "text": [
      "Enter your choice:  1\n",
      "Enter task title:  Self care\n",
      "Enter task description:  hair and skin care\n"
     ]
    },
    {
     "name": "stdout",
     "output_type": "stream",
     "text": [
      "Task added successfully!\n",
      "\n",
      "Task Menu\n",
      "1. Add Task\n",
      "2. View Tasks\n",
      "3. Mark Task as Completed\n",
      "4. Delete Task\n",
      "5. Logout\n"
     ]
    },
    {
     "name": "stdin",
     "output_type": "stream",
     "text": [
      "Enter your choice:  DIY packs etc\n"
     ]
    },
    {
     "name": "stdout",
     "output_type": "stream",
     "text": [
      "Invalid choice. Please try again.\n",
      "\n",
      "Task Menu\n",
      "1. Add Task\n",
      "2. View Tasks\n",
      "3. Mark Task as Completed\n",
      "4. Delete Task\n",
      "5. Logout\n"
     ]
    },
    {
     "name": "stdin",
     "output_type": "stream",
     "text": [
      "Enter your choice:  1\n",
      "Enter task title:  Puja\n",
      "Enter task description:  Clean mandir and puja\n"
     ]
    },
    {
     "name": "stdout",
     "output_type": "stream",
     "text": [
      "Task added successfully!\n",
      "\n",
      "Task Menu\n",
      "1. Add Task\n",
      "2. View Tasks\n",
      "3. Mark Task as Completed\n",
      "4. Delete Task\n",
      "5. Logout\n"
     ]
    },
    {
     "name": "stdin",
     "output_type": "stream",
     "text": [
      "Enter your choice:  2\n"
     ]
    },
    {
     "name": "stdout",
     "output_type": "stream",
     "text": [
      "\n",
      "--- Your Tasks ---\n",
      "1. Self care - hair and skin care (❌ Pending)\n",
      "2. Puja - Clean mandir and puja (❌ Pending)\n",
      "\n",
      "Task Menu\n",
      "1. Add Task\n",
      "2. View Tasks\n",
      "3. Mark Task as Completed\n",
      "4. Delete Task\n",
      "5. Logout\n"
     ]
    }
   ],
   "source": [
    "## import json\n",
    "\n",
    "import re\n",
    "\n",
    "class TaskManager:\n",
    "    def __init__(self, username):\n",
    "        self.username = username\n",
    "        self.tasks = self.load_tasks()\n",
    "\n",
    "    def load_tasks(self):\n",
    "        try:\n",
    "            with open(\"tasks.json\", \"r\") as file:\n",
    "                data = json.load(file)\n",
    "                return data.get(self.username, [])\n",
    "        except FileNotFoundError:\n",
    "            return []\n",
    "\n",
    "    def save_tasks(self):\n",
    "        try:\n",
    "            with open(\"tasks.json\", \"r\") as file:\n",
    "                data = json.load(file)\n",
    "        except FileNotFoundError:\n",
    "            data = {}\n",
    "\n",
    "        data[self.username] = self.tasks\n",
    "        with open(\"tasks.json\", \"w\") as file:\n",
    "            json.dump(data, file)\n",
    "\n",
    "    def add_task(self, title, description):\n",
    "        task = {\"title\": title, \"description\": description, \"completed\": False}\n",
    "        self.tasks.append(task)\n",
    "        self.save_tasks()\n",
    "        print(\"Task added successfully!\")\n",
    "\n",
    "    def view_tasks(self):\n",
    "        if not self.tasks:\n",
    "            print(\"No tasks found.\")\n",
    "            return\n",
    "\n",
    "        print(\"\\n--- Your Tasks ---\")\n",
    "        for i, task in enumerate(self.tasks, 1):\n",
    "            status = \"✅ Completed\" if task[\"completed\"] else \"❌ Pending\"\n",
    "            print(f\"{i}. {task['title']} - {task['description']} ({status})\")\n",
    "\n",
    "    def mark_completed(self, task_index):\n",
    "        if 0 < task_index <= len(self.tasks):\n",
    "            self.tasks[task_index - 1][\"completed\"] = True\n",
    "            self.save_tasks()\n",
    "            print(\"Task marked as completed!\")\n",
    "        else:\n",
    "            print(\"Invalid task number.\")\n",
    "\n",
    "    def delete_task(self, task_index):\n",
    "        if 0 < task_index <= len(self.tasks):\n",
    "            del self.tasks[task_index - 1]\n",
    "            self.save_tasks()\n",
    "            print(\"Task deleted successfully!\")\n",
    "        else:\n",
    "            print(\"Invalid task number.\")\n",
    "\n",
    "class UserAuth:\n",
    "    def __init__(self):\n",
    "        self.users = self.load_users()\n",
    "\n",
    "    def load_users(self):\n",
    "        try:\n",
    "            with open(\"users.json\", \"r\") as file:\n",
    "                return json.load(file)\n",
    "        except FileNotFoundError:\n",
    "            return {}\n",
    "\n",
    "    def save_users(self):\n",
    "        with open(\"users.json\", \"w\") as file:\n",
    "            json.dump(self.users, file)\n",
    "\n",
    "    import re  # Regular expressions for password validation\n",
    "\n",
    "    def register(self, username, password):\n",
    "    # Username validation: No spaces allowed\n",
    "        if \" \" in username:\n",
    "            print(\"Username cannot contain spaces.\")\n",
    "            return\n",
    "\n",
    "    # Password validation: Minimum 8 chars, at least one number and one special character\n",
    "        if len(password) < 8:\n",
    "            print(\"Password must be at least 8 characters long.\")\n",
    "            return\n",
    "        if not re.search(r\"\\d\", password):  # Checks for at least one number\n",
    "            print(\"Password must contain at least one number.\")\n",
    "            return\n",
    "        if not re.search(r\"[!@#$%^&*(),.?\\\":{}|<>]\", password):  # Checks for a special character\n",
    "            print(\"Password must contain at least one special character.\")\n",
    "            return\n",
    "\n",
    "    # If all validations pass, proceed with registration\n",
    "        if username in self.users:\n",
    "            print(\"Username already exists.\")\n",
    "        else:\n",
    "            self.users[username] = password\n",
    "            self.save_users()\n",
    "            print(\"Registration successful!\")\n",
    "\n",
    "\n",
    "    def login(self, username, password):\n",
    "        if self.users.get(username) == password:\n",
    "            print(\"Login successful!\")\n",
    "            return TaskManager(username)\n",
    "        else:\n",
    "            print(\"Invalid credentials.\")\n",
    "            return None\n",
    "\n",
    "def main():\n",
    "    auth = UserAuth()\n",
    "    task_manager = None\n",
    "\n",
    "    while True:\n",
    "        print(\"\\nTask Manager\")\n",
    "        print(\"1. Register\")\n",
    "        print(\"2. Login\")\n",
    "        print(\"3. Exit\")\n",
    "\n",
    "        choice = input(\"Enter your choice: \")\n",
    "\n",
    "        if choice == \"1\":\n",
    "            username = input(\"Enter username: \")\n",
    "            password = input(\"Enter password: \")\n",
    "            auth.register(username, password)\n",
    "\n",
    "        elif choice == \"2\":\n",
    "            username = input(\"Enter username: \")\n",
    "            password = input(\"Enter password: \")\n",
    "            task_manager = auth.login(username, password)\n",
    "\n",
    "            if task_manager:\n",
    "                while True:\n",
    "                    print(\"\\nTask Menu\")\n",
    "                    print(\"1. Add Task\")\n",
    "                    print(\"2. View Tasks\")\n",
    "                    print(\"3. Mark Task as Completed\")\n",
    "                    print(\"4. Delete Task\")\n",
    "                    print(\"5. Logout\")\n",
    "\n",
    "                    task_choice = input(\"Enter your choice: \")\n",
    "\n",
    "                    if task_choice == \"1\":\n",
    "                        title = input(\"Enter task title: \")\n",
    "                        description = input(\"Enter task description: \")\n",
    "                        task_manager.add_task(title, description)\n",
    "                    elif task_choice == \"2\":\n",
    "                        task_manager.view_tasks()\n",
    "                    elif task_choice == \"3\":\n",
    "                        task_manager.view_tasks()\n",
    "                        index = int(input(\"Enter task number to mark as completed: \"))\n",
    "                        task_manager.mark_completed(index)\n",
    "                    elif task_choice == \"4\":\n",
    "                        task_manager.view_tasks()\n",
    "                        index = int(input(\"Enter task number to delete: \"))\n",
    "                        task_manager.delete_task(index)\n",
    "                    elif task_choice == \"5\":\n",
    "                        print(\"Logging out...\")\n",
    "                        break\n",
    "                    else:\n",
    "                        print(\"Invalid choice. Please try again.\")\n",
    "\n",
    "            elif choice == \"3\":\n",
    "                print(\"Exiting... Stay organized!\")\n",
    "                break\n",
    "\n",
    "            else:\n",
    "                print(\"Invalid choice. Try again.\")\n",
    "\n",
    "if __name__ == \"__main__\":\n",
    "    main()\n"
   ]
  },
  {
   "cell_type": "code",
   "execution_count": null,
   "id": "f8018677-50d7-4036-9c5a-55bbe20f2004",
   "metadata": {},
   "outputs": [],
   "source": []
  }
 ],
 "metadata": {
  "kernelspec": {
   "display_name": "Python 3 (ipykernel)",
   "language": "python",
   "name": "python3"
  },
  "language_info": {
   "codemirror_mode": {
    "name": "ipython",
    "version": 3
   },
   "file_extension": ".py",
   "mimetype": "text/x-python",
   "name": "python",
   "nbconvert_exporter": "python",
   "pygments_lexer": "ipython3",
   "version": "3.12.7"
  }
 },
 "nbformat": 4,
 "nbformat_minor": 5
}
